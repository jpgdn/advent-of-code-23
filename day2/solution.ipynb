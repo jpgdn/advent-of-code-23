{
 "cells": [
  {
   "cell_type": "code",
   "execution_count": 1,
   "metadata": {},
   "outputs": [],
   "source": [
    "import re\n",
    "def aoc23_2_proc_1(file_path,n_red,n_green,n_blue,verbose=False):\n",
    "\n",
    "    sum = 0\n",
    "    p = re.compile(r'(\\d+)\\s(red|blue|green)')\n",
    "\n",
    "    with open(file_path, 'r') as file:\n",
    "        for line in file:\n",
    "            line = line.strip()\n",
    "            s_game, s_draws = line.split(': ')\n",
    "            m = re.findall(r'Game (\\d+)',s_game)\n",
    "            game_no = int(m[0])\n",
    "            cube_sets = s_draws.split(';')\n",
    "            # print(cube_sets)\n",
    "\n",
    "            possible = True\n",
    "\n",
    "            for cs in cube_sets:\n",
    "                d = {'red': 0, 'green': 0, 'blue': 0}\n",
    "\n",
    "                matches = p.findall(cs)\n",
    "                for m in matches:\n",
    "                    d[m[1]] = int(m[0])\n",
    "                    \n",
    "                if d['red']>n_red or d['green']>n_green or d['blue']>n_blue:\n",
    "                    possible = False\n",
    "                if (verbose):\n",
    "                    print(f'Game {game_no}: d = {d} possible = {possible}')\n",
    "                if (not possible):\n",
    "                    break\n",
    "\n",
    "            if (possible):\n",
    "                sum += game_no\n",
    "\n",
    "    return sum"
   ]
  },
  {
   "cell_type": "code",
   "execution_count": 2,
   "metadata": {},
   "outputs": [
    {
     "name": "stdout",
     "output_type": "stream",
     "text": [
      "2771\n"
     ]
    }
   ],
   "source": [
    "sum = aoc23_2_proc_1('aoc23-2-input.txt',12,13,14,False)\n",
    "print(sum)"
   ]
  },
  {
   "cell_type": "code",
   "execution_count": 3,
   "metadata": {},
   "outputs": [],
   "source": [
    "def aoc23_2_proc_2(file_path,verbose=False):\n",
    "    import re\n",
    "    sum = 0\n",
    "    p = re.compile(r'(\\d+)\\s(red|blue|green)')\n",
    "\n",
    "    with open(file_path, 'r') as file:\n",
    "        for line in file:\n",
    "            line = line.strip()\n",
    "            s_game, s_draws = line.split(': ')\n",
    "            m = re.findall(r'Game (\\d+)',s_game)\n",
    "            game_no = int(m[0])\n",
    "            cube_sets = s_draws.split(';')\n",
    "\n",
    "            min_cubes = {'red': 0, 'green': 0, 'blue': 0}\n",
    "            for cs in cube_sets:\n",
    "                d = {'red': 0, 'green': 0, 'blue': 0}\n",
    "\n",
    "                matches = p.findall(cs)\n",
    "                for m in matches:\n",
    "                    d[m[1]] = int(m[0])\n",
    "        \n",
    "                for color in ['red', 'green', 'blue']:\n",
    "                    min_cubes[color] = max(d[color],min_cubes[color])\n",
    "                    \n",
    "            prod = min_cubes['red'] * min_cubes['green'] * min_cubes['blue'] \n",
    "            if (verbose):\n",
    "                print(f'Game {game_no}: min_cubes = {min_cubes} p = {prod}')\n",
    "            sum += prod\n",
    "\n",
    "    return sum"
   ]
  },
  {
   "cell_type": "code",
   "execution_count": 4,
   "metadata": {},
   "outputs": [
    {
     "name": "stdout",
     "output_type": "stream",
     "text": [
      "70924\n"
     ]
    }
   ],
   "source": [
    "prod = aoc23_2_proc_2('aoc23-2-input.txt',False)\n",
    "print(prod)"
   ]
  }
 ],
 "metadata": {
  "kernelspec": {
   "display_name": "AILab",
   "language": "python",
   "name": "python3"
  },
  "language_info": {
   "codemirror_mode": {
    "name": "ipython",
    "version": 3
   },
   "file_extension": ".py",
   "mimetype": "text/x-python",
   "name": "python",
   "nbconvert_exporter": "python",
   "pygments_lexer": "ipython3",
   "version": "3.11.6"
  }
 },
 "nbformat": 4,
 "nbformat_minor": 2
}
