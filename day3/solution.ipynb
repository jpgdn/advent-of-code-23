{
 "cells": [
  {
   "cell_type": "code",
   "execution_count": 1,
   "metadata": {},
   "outputs": [],
   "source": [
    "import re\n",
    "import numpy as np\n",
    "import scipy\n",
    "\n",
    "def compatibility_matrix(lines):\n",
    "\n",
    "    p1 = re.compile(r'[^0123456789.]')\n",
    "    p2 = re.compile(r'[0123456789.]')\n",
    "    p3 = re.compile(r'x')\n",
    "\n",
    "    # Convert input to a binary array\n",
    "    arr = np.zeros([len(lines), len(lines[0])]) \n",
    "    for i, line in enumerate(lines):\n",
    "        line = re.sub(p1,'x',line)      # Change symbols to x\n",
    "        line = re.sub(p2,'0',line)      # Change digits and periods to 0\n",
    "        line = re.sub(p3, '1', line)    # Change x to 1\n",
    "        arr[i:] = np.fromiter((int(c) for c in line), dtype = int)\n",
    "\n",
    "    # Expand each 1 to its 8 neighbours\n",
    "    mask = np.array([[1,1,1],\n",
    "                     [1,1,1],\n",
    "                     [1,1,1]])\n",
    "    filtered_arr = scipy.signal.convolve2d(arr, mask, mode='same')\n",
    "    \n",
    "    # Threshold and convert to int - not really necssary but cleaner\n",
    "    return np.where(filtered_arr>=1, 1, 0).astype(int)\n",
    "\n",
    "def aoc23_3_proc_1(lines,verbose=False):\n",
    "    sum = 0\n",
    "    c_mat = compatibility_matrix(lines)\n",
    "    p = re.compile(r'(\\d+)')\n",
    "    for i, line in enumerate(lines):\n",
    "        numbers = p.finditer(line)\n",
    "        for n in numbers:\n",
    "            # Check if number overlaps any non-zero items in the compatibility matrix\n",
    "            start, end = n.span()\n",
    "            slc = c_mat[i,start:end]\n",
    "            if (np.sum(slc)>0):\n",
    "                sum += int(n.group())\n",
    "    return sum"
   ]
  },
  {
   "cell_type": "code",
   "execution_count": 2,
   "metadata": {},
   "outputs": [
    {
     "name": "stdout",
     "output_type": "stream",
     "text": [
      "530495\n"
     ]
    }
   ],
   "source": [
    "with open('aoc23-3-input.txt', 'r') as file:\n",
    "    lines = [s.strip() for s in file.readlines()]\n",
    "sum = aoc23_3_proc_1(lines,False)\n",
    "print(sum)"
   ]
  },
  {
   "cell_type": "code",
   "execution_count": 3,
   "metadata": {},
   "outputs": [],
   "source": [
    "def _find_adjacent(pos, m_num):\n",
    "    \"\"\"Compute a list of numbers that are adjacent to pos.\"\"\"\n",
    "    result = []\n",
    "    for m in m_num:\n",
    "        num_start, num_end, = m.span()\n",
    "        if pos>=num_start-1 and pos<=num_end:\n",
    "            result.append(int(m.group()))\n",
    "    return result\n",
    "\n",
    "def aoc23_3_proc_2(lines,verbose=False):\n",
    "    sum = 0\n",
    "    p_star = re.compile(r'\\*')\n",
    "    p_num = re.compile(r'(\\d+)')\n",
    "    parts_prev = []\n",
    "    parts_this = []\n",
    "    parts_next = []\n",
    "    for i, line in enumerate(lines):\n",
    "        # Find the part numbers on the previous, current and next line\n",
    "        if i==0:\n",
    "            for m in p_num.finditer(line):\n",
    "                parts_next.append(m)\n",
    "        parts_prev = parts_this.copy()\n",
    "        parts_this = parts_next.copy()\n",
    "        parts_next = []\n",
    "        if i<len(lines)-1:\n",
    "            for m in p_num.finditer(lines[i+1]):\n",
    "                parts_next.append(m)\n",
    "\n",
    "        # For each star, find the matching part numbers\n",
    "        match_stars = p_star.finditer(line)\n",
    "        for ms in match_stars:\n",
    "            pos, _ = ms.span()\n",
    "            parts = _find_adjacent(pos, parts_prev + parts_this + parts_next)\n",
    "            if (len(parts)==2): # Must have exactly two matching parts\n",
    "                sum += parts[0] * parts[1]\n",
    "            if verbose:\n",
    "                print(f'line {i}: star={pos} parts: {parts}')\n",
    "    return sum"
   ]
  },
  {
   "cell_type": "code",
   "execution_count": 4,
   "metadata": {},
   "outputs": [
    {
     "name": "stdout",
     "output_type": "stream",
     "text": [
      "80253814\n"
     ]
    }
   ],
   "source": [
    "with open('aoc23-3-input.txt', 'r') as file:\n",
    "    lines = [s.strip() for s in file.readlines()]\n",
    "sum = aoc23_3_proc_2(lines,False)\n",
    "print(sum)"
   ]
  }
 ],
 "metadata": {
  "kernelspec": {
   "display_name": "AILab",
   "language": "python",
   "name": "python3"
  },
  "language_info": {
   "codemirror_mode": {
    "name": "ipython",
    "version": 3
   },
   "file_extension": ".py",
   "mimetype": "text/x-python",
   "name": "python",
   "nbconvert_exporter": "python",
   "pygments_lexer": "ipython3",
   "version": "3.11.6"
  }
 },
 "nbformat": 4,
 "nbformat_minor": 2
}
