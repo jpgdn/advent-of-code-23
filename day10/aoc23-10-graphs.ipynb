{
 "cells": [
  {
   "cell_type": "code",
   "execution_count": 1,
   "metadata": {},
   "outputs": [],
   "source": [
    "from pprint import pprint\n",
    "\n",
    "class Graph:\n",
    "    def __init__(self):\n",
    "        self.nodes = {}\n",
    "\n",
    "    def add_node(self, x, y, c='.', steps=0):\n",
    "        if (x,y) not in self.nodes:\n",
    "            self.nodes[(x, y)] = {'c': c, 'neighbors': []}\n",
    "\n",
    "    def add_edge(self, node1, node2):\n",
    "        self.nodes[node1]['neighbors'].append(node2)\n",
    "        \n",
    "def aoc23_10_proc_1a(fn,verbose=False):\n",
    "    g0 = Graph()\n",
    "    with open(fn, 'r') as file:\n",
    "        lines = [s.strip() for s in file.readlines()]\n",
    "\n",
    "    # Create a node for every pipe character\n",
    "    for j, line in enumerate(lines):\n",
    "        for i, c in enumerate(line):\n",
    "            if c == 'S':\n",
    "                g0.add_node(i,j,c)\n",
    "                s_node = (i,j)\n",
    "            elif c!='.':\n",
    "                g0.add_node(i,j,c)\n",
    "  \n",
    "    # Create the edges\n",
    "    nb = {  '-': [(-1,0),(1,0)],\n",
    "            '|': [(0,-1),(0,1)],\n",
    "            '7': [(-1,0),(0,1)],\n",
    "            'J': [(0,-1),(-1,0)],\n",
    "            'L': [(0,-1),(1,0)],\n",
    "            'F': [(0,1),(1,0)] }\n",
    "    for j, line in enumerate(lines):\n",
    "        for i, c in enumerate(line):\n",
    "            if c in nb:\n",
    "                for offset in nb[c]:\n",
    "                    node = (i+offset[0],j+offset[1])\n",
    "                    if node in g0.nodes:\n",
    "                         g0.add_edge((i,j),node)\n",
    "\n",
    "    # Create the edges from S\n",
    "    for offset in [(1,0),(0,1),(-1,0),(0,-1)]:\n",
    "        node = (s_node[0]+offset[0],s_node[1]+offset[1])\n",
    "        if node in g0.nodes:\n",
    "            if s_node in g0.nodes[node]['neighbors']:\n",
    "                g0.add_edge(s_node,node)\n",
    "\n",
    "    if (verbose): pprint(g0.nodes, sort_dicts=False)\n",
    "\n",
    "    # Walk the graph and build a new graph g1 with the nodes we pass\n",
    "    g1 = Graph()\n",
    "    prev_node = s_node\n",
    "    g1.add_node(s_node[0],s_node[1],'S',0)\n",
    "    cur_node = g0.nodes[s_node]['neighbors'][0]\n",
    "    steps = 0\n",
    "    while cur_node != s_node:\n",
    "        g1.nodes[prev_node]['neighbors'] = [cur_node]\n",
    "        steps += 1\n",
    "        g1.add_node(cur_node[0],cur_node[1],g0.nodes[cur_node]['c'])\n",
    "        # Find where to go next\n",
    "        for node in g0.nodes[cur_node]['neighbors']:\n",
    "            if node != prev_node:   # Don't go back\n",
    "                prev_node = cur_node\n",
    "                cur_node = node\n",
    "                break\n",
    "    g1.nodes[prev_node]['neighbors'] = [cur_node]\n",
    "\n",
    "    if verbose: pprint(g1.nodes, sort_dicts=False)\n",
    "\n",
    "    return (steps+1) // 2"
   ]
  },
  {
   "cell_type": "code",
   "execution_count": 2,
   "metadata": {},
   "outputs": [
    {
     "name": "stdout",
     "output_type": "stream",
     "text": [
      "6786\n"
     ]
    }
   ],
   "source": [
    "fn = 'aoc23-10-input.txt'\n",
    "res = aoc23_10_proc_1a(fn,False)\n",
    "print(res)"
   ]
  }
 ],
 "metadata": {
  "kernelspec": {
   "display_name": "AILab",
   "language": "python",
   "name": "python3"
  },
  "language_info": {
   "codemirror_mode": {
    "name": "ipython",
    "version": 3
   },
   "file_extension": ".py",
   "mimetype": "text/x-python",
   "name": "python",
   "nbconvert_exporter": "python",
   "pygments_lexer": "ipython3",
   "version": "3.11.6"
  }
 },
 "nbformat": 4,
 "nbformat_minor": 2
}
