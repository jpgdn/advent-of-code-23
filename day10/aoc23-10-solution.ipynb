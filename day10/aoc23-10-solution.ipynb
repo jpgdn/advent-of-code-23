{
 "cells": [
  {
   "cell_type": "code",
   "execution_count": 2,
   "metadata": {},
   "outputs": [
    {
     "name": "stdout",
     "output_type": "stream",
     "text": [
      "Part 1: 6786\n",
      "Part 2: 495\n"
     ]
    }
   ],
   "source": [
    "import day10\n",
    "fn = 'aoc23-10-input.txt'\n",
    "print(f'Part 1: {day10.part1(fn,False)}')\n",
    "print(f'Part 2: {day10.part2(fn,False)}')"
   ]
  }
 ],
 "metadata": {
  "kernelspec": {
   "display_name": "AILab",
   "language": "python",
   "name": "python3"
  },
  "language_info": {
   "codemirror_mode": {
    "name": "ipython",
    "version": 3
   },
   "file_extension": ".py",
   "mimetype": "text/x-python",
   "name": "python",
   "nbconvert_exporter": "python",
   "pygments_lexer": "ipython3",
   "version": "3.11.6"
  }
 },
 "nbformat": 4,
 "nbformat_minor": 2
}
