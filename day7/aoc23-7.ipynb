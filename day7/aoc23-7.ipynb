{
 "cells": [
  {
   "cell_type": "code",
   "execution_count": 1,
   "metadata": {},
   "outputs": [
    {
     "name": "stdout",
     "output_type": "stream",
     "text": [
      "Part 1: 248179786\n",
      "Part 2: 247885995\n"
     ]
    }
   ],
   "source": [
    "import day07\n",
    "fn = 'aoc23-7-input.txt'\n",
    "print(f'Part 1: {day07.part1(fn)}')\n",
    "print(f'Part 2: {day07.part2(fn)}')"
   ]
  }
 ],
 "metadata": {
  "kernelspec": {
   "display_name": "AILab",
   "language": "python",
   "name": "python3"
  },
  "language_info": {
   "codemirror_mode": {
    "name": "ipython",
    "version": 3
   },
   "file_extension": ".py",
   "mimetype": "text/x-python",
   "name": "python",
   "nbconvert_exporter": "python",
   "pygments_lexer": "ipython3",
   "version": "3.11.6"
  }
 },
 "nbformat": 4,
 "nbformat_minor": 2
}
