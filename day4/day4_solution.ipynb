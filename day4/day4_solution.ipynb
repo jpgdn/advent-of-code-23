{
 "cells": [
  {
   "cell_type": "code",
   "execution_count": 71,
   "metadata": {},
   "outputs": [],
   "source": [
    "import re\n",
    "import numpy as np\n",
    "\n",
    "def _count_matches(line):\n",
    "    \"\"\"Count the number of matches in one line\"\"\"\n",
    "    _, s_data = line.split(': ')\n",
    "    num_win_s, num_chk_s = s_data.split('|')\n",
    "    num_win = re.findall('(\\d+)',num_win_s)\n",
    "    num_chk= re.findall('(\\d+)',num_chk_s)\n",
    "\n",
    "    count = 0\n",
    "    for i in num_chk:\n",
    "        if i in num_win:\n",
    "            count += 1\n",
    "\n",
    "    return count\n",
    "    \n",
    "def aoc23_4_proc_1(lines,verbose=False):\n",
    "    \"\"\"Day 4 Part 1\"\"\"\n",
    "    sum = 0\n",
    "    for line in lines:\n",
    "        count = _count_matches(line)\n",
    "\n",
    "        if (count>0):\n",
    "            score = pow(2,count-1)\n",
    "        else:\n",
    "            score = 0\n",
    "        if (verbose):\n",
    "            print(f'count={count} score={score}')\n",
    "        sum += score\n",
    "\n",
    "    return sum"
   ]
  },
  {
   "cell_type": "code",
   "execution_count": 72,
   "metadata": {},
   "outputs": [
    {
     "name": "stdout",
     "output_type": "stream",
     "text": [
      "19135\n"
     ]
    }
   ],
   "source": [
    "with open('aoc23-4-input.txt', 'r') as file:\n",
    "    lines = [s.strip() for s in file.readlines()]\n",
    "sum = aoc23_4_proc_1(lines,False)\n",
    "print(sum)"
   ]
  },
  {
   "cell_type": "code",
   "execution_count": 73,
   "metadata": {},
   "outputs": [],
   "source": [
    "def aoc23_4_proc_2(lines,verbose=False):\n",
    "    \"\"\"Day 4 Part 2\"\"\"\n",
    "    card_count = [1] * len(lines)\n",
    "    for i in range(0,len(lines)-1):\n",
    "        count = _count_matches(lines[i])\n",
    "\n",
    "        last = min(i+1+count,len(lines))\n",
    "        for j in range(i+1,last):\n",
    "            card_count[j] += card_count[i]\n",
    "    \n",
    "        if (verbose):\n",
    "            print(f'i={i} c={card_count}')\n",
    "\n",
    "    return np.sum(card_count)"
   ]
  },
  {
   "cell_type": "code",
   "execution_count": 74,
   "metadata": {},
   "outputs": [
    {
     "name": "stdout",
     "output_type": "stream",
     "text": [
      "5704953\n"
     ]
    }
   ],
   "source": [
    "with open('aoc23-4-input.txt', 'r') as file:\n",
    "    lines = [s.strip() for s in file.readlines()]\n",
    "sum = aoc23_4_proc_2(lines,False)\n",
    "print(sum)"
   ]
  }
 ],
 "metadata": {
  "kernelspec": {
   "display_name": "AILab",
   "language": "python",
   "name": "python3"
  },
  "language_info": {
   "codemirror_mode": {
    "name": "ipython",
    "version": 3
   },
   "file_extension": ".py",
   "mimetype": "text/x-python",
   "name": "python",
   "nbconvert_exporter": "python",
   "pygments_lexer": "ipython3",
   "version": "3.11.6"
  }
 },
 "nbformat": 4,
 "nbformat_minor": 2
}
