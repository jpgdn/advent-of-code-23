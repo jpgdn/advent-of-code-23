{
 "cells": [
  {
   "cell_type": "code",
   "execution_count": 1,
   "metadata": {},
   "outputs": [
    {
     "name": "stdout",
     "output_type": "stream",
     "text": [
      "Part 1: 55712 Part 2: 55413\n"
     ]
    }
   ],
   "source": [
    "def _process_line(line,alpha=False):\n",
    "    digit_list = [\n",
    "        (\"one\", \"o1e\"),\n",
    "        (\"two\", \"t2o\"),\n",
    "        (\"three\", \"t3e\"),\n",
    "        (\"four\", \"f4r\"),\n",
    "        (\"five\", \"f5e\"),\n",
    "        (\"six\", \"s6x\"),\n",
    "        (\"seven\", \"s7n\"),\n",
    "        (\"eight\", \"e8t\"),\n",
    "        (\"nine\", \"n9e\")\n",
    "    ]\n",
    "    if alpha:\n",
    "        for d, r in digit_list:\n",
    "            line = line.replace(d,r)\n",
    "\n",
    "    digits = [c for c in line if c.isdigit()]\n",
    "    if digits:\n",
    "        return int(digits[0] + digits[-1])\n",
    "    else:\n",
    "        return 0\n",
    "\n",
    "def aoc23_1_solution(file_path,alpha=False):\n",
    "    sum = 0\n",
    "    with open(file_path, 'r') as file:\n",
    "        for line in file:\n",
    "            line = line.strip()\n",
    "            sum += _process_line(line,alpha)\n",
    "    return sum\n",
    "\n",
    "sum1 = aoc23_1_solution('aoc23-1-input.txt',False)\n",
    "sum2 = aoc23_1_solution('aoc23-1-input.txt',True)\n",
    "\n",
    "print(f'Part 1: {sum1} Part 2: {sum2}')"
   ]
  }
 ],
 "metadata": {
  "kernelspec": {
   "display_name": "AILab",
   "language": "python",
   "name": "python3"
  },
  "language_info": {
   "codemirror_mode": {
    "name": "ipython",
    "version": 3
   },
   "file_extension": ".py",
   "mimetype": "text/x-python",
   "name": "python",
   "nbconvert_exporter": "python",
   "pygments_lexer": "ipython3",
   "version": "3.11.6"
  }
 },
 "nbformat": 4,
 "nbformat_minor": 2
}
