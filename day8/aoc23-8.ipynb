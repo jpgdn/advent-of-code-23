{
 "cells": [
  {
   "cell_type": "code",
   "execution_count": 2,
   "metadata": {},
   "outputs": [
    {
     "name": "stdout",
     "output_type": "stream",
     "text": [
      "Part 1: 17873\n",
      "Part 2: 15746133679061\n"
     ]
    }
   ],
   "source": [
    "import day08\n",
    "fn = 'aoc23-8-input.txt'\n",
    "count = day08.part1(fn)\n",
    "print(f'Part 1: {count}')\n",
    "count = day08.part2(fn)\n",
    "print(f'Part 2: {count}')"
   ]
  }
 ],
 "metadata": {
  "kernelspec": {
   "display_name": "AILab",
   "language": "python",
   "name": "python3"
  },
  "language_info": {
   "codemirror_mode": {
    "name": "ipython",
    "version": 3
   },
   "file_extension": ".py",
   "mimetype": "text/x-python",
   "name": "python",
   "nbconvert_exporter": "python",
   "pygments_lexer": "ipython3",
   "version": "3.11.6"
  }
 },
 "nbformat": 4,
 "nbformat_minor": 2
}
