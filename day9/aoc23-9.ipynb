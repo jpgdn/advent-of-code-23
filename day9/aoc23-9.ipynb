{
 "cells": [
  {
   "cell_type": "code",
   "execution_count": 3,
   "metadata": {},
   "outputs": [
    {
     "name": "stdout",
     "output_type": "stream",
     "text": [
      "Part 1: 1992273652\n",
      "Part 2: 1012\n"
     ]
    }
   ],
   "source": [
    "import day09\n",
    "fn = 'aoc23-9-input.txt'\n",
    "print(f'Part 1: {day09.part12(fn,False)}')\n",
    "print(f'Part 2: {day09.part12(fn,True)}')"
   ]
  }
 ],
 "metadata": {
  "kernelspec": {
   "display_name": "AILab",
   "language": "python",
   "name": "python3"
  },
  "language_info": {
   "codemirror_mode": {
    "name": "ipython",
    "version": 3
   },
   "file_extension": ".py",
   "mimetype": "text/x-python",
   "name": "python",
   "nbconvert_exporter": "python",
   "pygments_lexer": "ipython3",
   "version": "3.11.6"
  }
 },
 "nbformat": 4,
 "nbformat_minor": 2
}
